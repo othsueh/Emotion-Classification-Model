{
 "cells": [
  {
   "cell_type": "code",
   "execution_count": 2,
   "metadata": {},
   "outputs": [],
   "source": [
    "import torch\n",
    "import torch.nn as nn\n",
    "import pandas as pd\n",
    "import matplotlib.pyplot as plt\n",
    "import seaborn as sns\n",
    "import numpy as np\n",
    "import soundfile as sf\n",
    "import webdataset as wds\n",
    "import multiprocessing as mp\n",
    "import glob\n",
    "from utils import *\n",
    "import os\n",
    "from collections import Counter"
   ]
  },
  {
   "cell_type": "code",
   "execution_count": 3,
   "metadata": {},
   "outputs": [],
   "source": [
    "total = pd.read_csv(config['TOTAL']['PATH_TO_LABEL'])"
   ]
  },
  {
   "cell_type": "code",
   "execution_count": 26,
   "metadata": {},
   "outputs": [],
   "source": [
    "train = total[total['Split_Set'] == 'Train']\n",
    "valid = total[total['Split_Set'] == 'Development']"
   ]
  },
  {
   "cell_type": "code",
   "execution_count": 27,
   "metadata": {},
   "outputs": [
    {
     "data": {
      "text/plain": [
       "(66769, 16504)"
      ]
     },
     "execution_count": 27,
     "metadata": {},
     "output_type": "execute_result"
    }
   ],
   "source": [
    "len(train),len(valid)"
   ]
  },
  {
   "cell_type": "code",
   "execution_count": 28,
   "metadata": {},
   "outputs": [
    {
     "data": {
      "text/plain": [
       "Counter({'neutral': 32131,\n",
       "         'happy': 18645,\n",
       "         'sad': 6016,\n",
       "         'angry': 5003,\n",
       "         'surprise': 2687,\n",
       "         'contempt': 2287})"
      ]
     },
     "execution_count": 28,
     "metadata": {},
     "output_type": "execute_result"
    }
   ],
   "source": [
    "Counter(train['dominant_emotion'])"
   ]
  },
  {
   "cell_type": "code",
   "execution_count": 12,
   "metadata": {},
   "outputs": [
    {
     "data": {
      "text/plain": [
       "83273"
      ]
     },
     "execution_count": 12,
     "metadata": {},
     "output_type": "execute_result"
    }
   ],
   "source": [
    "len(total)"
   ]
  },
  {
   "cell_type": "code",
   "execution_count": 13,
   "metadata": {},
   "outputs": [
    {
     "name": "stdout",
     "output_type": "stream",
     "text": [
      "Original dataset size: 83273\n",
      "Sampled dataset size: 8328 (10.00%)\n",
      "\n",
      "Emotion distribution in original dataset:\n",
      "Split_Set    dominant_emotion\n",
      "Development  angry                2676\n",
      "             contempt             1352\n",
      "             happy                4067\n",
      "             neutral              6262\n",
      "             sad                  1386\n",
      "             surprise              761\n",
      "Train        angry                5003\n",
      "             contempt             2287\n",
      "             happy               18645\n",
      "             neutral             32131\n",
      "             sad                  6016\n",
      "             surprise             2687\n",
      "dtype: int64\n",
      "\n",
      "Emotion distribution in sampled dataset:\n",
      "Split_Set    dominant_emotion\n",
      "Development  angry                268\n",
      "             contempt             135\n",
      "             happy                407\n",
      "             neutral              626\n",
      "             sad                  139\n",
      "             surprise              76\n",
      "Train        angry                500\n",
      "             contempt             229\n",
      "             happy               1864\n",
      "             neutral             3213\n",
      "             sad                  602\n",
      "             surprise             269\n",
      "dtype: int64\n"
     ]
    }
   ],
   "source": [
    "# Display the first few rows of the dataset\n",
    "# total.head()\n",
    "\n",
    "# Create a function to sample 10% of the data while preserving class distribution\n",
    "def sample_stratified(df, frac=0.1, random_state=42):\n",
    "    # Group by split set and emotion\n",
    "    groups = df.groupby(['Split_Set', 'dominant_emotion'])\n",
    "    sampled_dfs = []\n",
    "    \n",
    "    # Sample each group separately\n",
    "    for name, group in groups:\n",
    "        sampled_group = group.sample(frac=frac, random_state=random_state)\n",
    "        sampled_dfs.append(sampled_group)\n",
    "    \n",
    "    # Combine all sampled groups\n",
    "    return pd.concat(sampled_dfs)\n",
    "\n",
    "# Create a 10% sample of the dataset\n",
    "total_sampled = sample_stratified(total, frac=0.1)\n",
    "\n",
    "# Verify the size reduction\n",
    "print(f\"Original dataset size: {len(total)}\")\n",
    "print(f\"Sampled dataset size: {len(total_sampled)} ({len(total_sampled)/len(total):.2%})\")\n",
    "\n",
    "# Verify emotion distribution is preserved\n",
    "print(\"\\nEmotion distribution in original dataset:\")\n",
    "print(total.groupby(['Split_Set', 'dominant_emotion']).size())\n",
    "print(\"\\nEmotion distribution in sampled dataset:\")\n",
    "print(total_sampled.groupby(['Split_Set', 'dominant_emotion']).size())\n",
    "\n",
    "# Replace the original dataframe with the sampled one\n",
    "total = total_sampled"
   ]
  },
  {
   "cell_type": "code",
   "execution_count": 8,
   "metadata": {},
   "outputs": [],
   "source": [
    "total.to_csv('/datas/store163/othsueh/Emo_analyze/newset/train&val_eps0.045_small.csv')"
   ]
  },
  {
   "cell_type": "code",
   "execution_count": 2,
   "metadata": {},
   "outputs": [
    {
     "name": "stderr",
     "output_type": "stream",
     "text": [
      "/datas/store163/othsueh/miniconda3/envs/msp_env/lib/python3.9/site-packages/tqdm/auto.py:22: TqdmWarning: IProgress not found. Please update jupyter and ipywidgets. See https://ipywidgets.readthedocs.io/en/stable/user_install.html\n",
      "  from .autonotebook import tqdm as notebook_tqdm\n",
      "Some weights of Wav2Vec2Model were not initialized from the model checkpoint at ./FeatureExtraction/models/wav2vec2-large-960h and are newly initialized: ['wav2vec2.masked_spec_embed']\n",
      "You should probably TRAIN this model on a down-stream task to be able to use it for predictions and inference.\n"
     ]
    }
   ],
   "source": [
    "from transformers import AutoProcessor, AutoModel\n",
    "model_name = \"wav2vec2-large-960h\"\n",
    "model_path = config[\"PATH_TO_PRETRAINED_MODELS\"] \n",
    "model_path = os.path.join(model_path, model_name)\n",
    "assert os.path.exists(model_path), f\"Model path {model_path} does not exist.\"\n",
    "feature_extractor = AutoProcessor.from_pretrained(model_path, use_fast=False)\n",
    "model = AutoModel.from_pretrained(model_path)\n",
    "# Check if CUDA is available and assert GPU usage\n",
    "assert torch.cuda.is_available(), \"CUDA is not available. Please use a GPU to run this code.\"\n",
    "model = model.to('cuda')"
   ]
  },
  {
   "cell_type": "code",
   "execution_count": null,
   "metadata": {},
   "outputs": [],
   "source": [
    "print(model)"
   ]
  },
  {
   "cell_type": "code",
   "execution_count": 6,
   "metadata": {},
   "outputs": [
    {
     "name": "stdout",
     "output_type": "stream",
     "text": [
      "25192448\n"
     ]
    }
   ],
   "source": [
    "# for name, module in model.named_modules():\n",
    "#     print(name)\n",
    "def freeze_all_except(model, unfreeze_keys):\n",
    "    for name, param in model.named_parameters():\n",
    "        param.requires_grad = any(key in name for key in unfreeze_keys)\n",
    "fire_layers = ['encoder.layers.22','encoder.layers.23']\n",
    "freeze_all_except(model,fire_layers)\n",
    "trainable_params = sum(p.numel() for p in model.parameters() if p.requires_grad)\n",
    "print(trainable_params) #origin : 315428992"
   ]
  },
  {
   "cell_type": "code",
   "execution_count": 27,
   "metadata": {},
   "outputs": [],
   "source": [
    "import soundfile as sf"
   ]
  },
  {
   "cell_type": "code",
   "execution_count": 42,
   "metadata": {},
   "outputs": [
    {
     "data": {
      "text/plain": [
       "torch.Size([1, 172, 1024])"
      ]
     },
     "execution_count": 42,
     "metadata": {},
     "output_type": "execute_result"
    }
   ],
   "source": [
    "samples, sr = sf.read(os.path.join(config['MSPPODCAST']['PATH_TO_AUDIO'],'MSP-PODCAST_3037_0712.wav'))\n",
    "input_values = feature_extractor(samples, sampling_rate=sr, return_tensors=\"pt\").input_values\n",
    "input_values = input_values.to('cuda')\n",
    "with torch.no_grad():\n",
    "    last_hidden_state = model(input_values).last_hidden_state\n",
    "\n",
    "last_hidden_state.shape"
   ]
  },
  {
   "cell_type": "code",
   "execution_count": 3,
   "metadata": {},
   "outputs": [
    {
     "name": "stdout",
     "output_type": "stream",
     "text": [
      "315428992\n"
     ]
    }
   ],
   "source": [
    "trainable_params = sum(p.numel() for p in model.parameters() if p.requires_grad)\n",
    "print(trainable_params)"
   ]
  },
  {
   "cell_type": "code",
   "execution_count": null,
   "metadata": {},
   "outputs": [],
   "source": [
    "model = net.MOE(1280,1024,dropout=0.2,fusion_type='bilinear',num_experts=3).cuda()\n",
    "numel_list = [p.numel() for p in model.parameters()]\n",
    "total_params = sum(numel_list)\n",
    "print(total_params)"
   ]
  },
  {
   "cell_type": "code",
   "execution_count": null,
   "metadata": {},
   "outputs": [],
   "source": [
    "numel_list"
   ]
  },
  {
   "cell_type": "code",
   "execution_count": 58,
   "metadata": {},
   "outputs": [
    {
     "name": "stdout",
     "output_type": "stream",
     "text": [
      "tensor([[ 1.0593, -0.5259, -0.4126, -1.2237, -1.0999],\n",
      "        [ 0.2725,  0.1745,  1.4604, -0.2560,  0.4010],\n",
      "        [ 0.3831,  0.0097,  1.1761, -0.1994,  2.6107]], requires_grad=True)\n",
      "tensor([[0.2939, 0.3446, 0.2175, 0.0216, 0.1223],\n",
      "        [0.0919, 0.1213, 0.1271, 0.4115, 0.2481],\n",
      "        [0.3606, 0.0967, 0.1421, 0.3822, 0.0183]])\n"
     ]
    }
   ],
   "source": [
    "input = torch.randn(3, 5, requires_grad=True)\n",
    "target = torch.randn(3, 5).softmax(dim=1)\n",
    "print(input)\n",
    "print(target)"
   ]
  },
  {
   "cell_type": "code",
   "execution_count": 57,
   "metadata": {},
   "outputs": [
    {
     "name": "stdout",
     "output_type": "stream",
     "text": [
      "tensor([[0.2500, 0.0000, 0.1875],\n",
      "        [1.0000, 0.0000, 0.3750],\n",
      "        [1.7500, 0.0000, 0.5625]])\n",
      "[[0.25   0.     0.75  ]\n",
      " [0.4    0.     0.6   ]\n",
      " [0.4375 0.     0.5625]]\n",
      "tensor([ 4, 10, 16]) [[ 4.]\n",
      " [10.]\n",
      " [16.]]\n"
     ]
    }
   ],
   "source": [
    "cm1 = torch.tensor([[1,0,3],[4,0,6],[7,0,9]])\n",
    "cm2 = np.array([[1,0,3],[4,0,6],[7,0,9]])\n",
    "cs1 = cm1.sum(dim=1)\n",
    "cs1 = cs1.masked_fill_(cs1 == 0, 1e-10)\n",
    "cs2 = cm2.sum(axis=1, keepdims=True)\n",
    "cs2 = np.where(cs2 == 0, 1e-10, cs2)\n",
    "print(cm1/cs1)\n",
    "print(cm2/cs2)\n",
    "print(cs1, cs2)"
   ]
  },
  {
   "cell_type": "code",
   "execution_count": 3,
   "metadata": {},
   "outputs": [
    {
     "name": "stdout",
     "output_type": "stream",
     "text": [
      "Number of training samples: 66992\n",
      "Number of validation samples: 25258\n"
     ]
    },
    {
     "name": "stderr",
     "output_type": "stream",
     "text": [
      "/tmp/ipykernel_559821/3589435466.py:14: UserWarning: Boolean Series key will be reindexed to match DataFrame index.\n",
      "  train_df = main_corpus_df[corpus_df[\"Split_Set\"] == \"Train\"]\n",
      "/tmp/ipykernel_559821/3589435466.py:15: UserWarning: Boolean Series key will be reindexed to match DataFrame index.\n",
      "  val_df = main_corpus_df[corpus_df[\"Split_Set\"] == \"Development\"]\n"
     ]
    }
   ],
   "source": [
    "seed = 42\n",
    "corpus = \"MSPPODCAST\"\n",
    "text_feature_extractor = 'roberta-large-UTT'\n",
    "audio_feature_extractor = 'whisper-large-v3-UTT'\n",
    "seed = 42\n",
    "batch = 16\n",
    "# Data Preprocessing\n",
    "corpus_path = config[corpus][\"PATH_TO_LABEL\"]\n",
    "corpus_df = pd.read_csv(corpus_path)\n",
    "corpus_df[\"FileName\"]= corpus_df[\"FileName\"].str.replace('.wav', '')\n",
    "# Remove non consensus labels\n",
    "main_corpus_df = corpus_df[~corpus_df[\"EmoClass\"].isin([\"X\", \"O\"])]\n",
    "# Create train/val splits\n",
    "train_df = main_corpus_df[corpus_df[\"Split_Set\"] == \"Train\"]\n",
    "val_df = main_corpus_df[corpus_df[\"Split_Set\"] == \"Development\"]\n",
    "# test_df = pd.read_csv(config[corpus][\"PATH_TO_TEST\"]) For evaluate.py\n",
    "text_feature = get_feature_dir(corpus,text_feature_extractor)\n",
    "audio_feature = get_feature_dir(corpus,audio_feature_extractor)\n",
    "\n",
    "# Create datasets\n",
    "train_dataset = MSPDataset(train_df, text_feature, audio_feature, seed=seed)\n",
    "valid_dataset = MSPDataset(val_df, text_feature, audio_feature, seed=seed)\n",
    "print(f\"Number of training samples: {train_dataset.total_samples}\")\n",
    "print(f\"Number of validation samples: {valid_dataset.total_samples}\")\n",
    "\n",
    "# Create dataloaders\n",
    "train_loader = DataLoader(train_dataset, batch_size=batch, num_workers=16)\n",
    "valid_loader = DataLoader(valid_dataset, batch_size=batch, num_workers=16)"
   ]
  },
  {
   "cell_type": "code",
   "execution_count": 4,
   "metadata": {},
   "outputs": [],
   "source": [
    "def indexEmotion(index_list):\n",
    "    category_list = []\n",
    "    emotions = [\"Angry\", \"Sad\", \"Happy\", \"Surprise\", \"Fear\", \"Disgust\", \"Contempt\", \"Neutral\"]\n",
    "    for index in index_list:\n",
    "        category_list.append(emotions[index])\n",
    "    return category_list"
   ]
  },
  {
   "cell_type": "code",
   "execution_count": 5,
   "metadata": {},
   "outputs": [
    {
     "name": "stdout",
     "output_type": "stream",
     "text": [
      "Error loading file MSP-PODCAST_5575_0603: Text feature file not found: /datas/store162/othsueh/MSP-Podcast/Features/roberta-large-UTT/MSP-PODCAST_5575_0603.npy\n",
      "Error loading file MSP-PODCAST_0794_0299: Text feature file not found: /datas/store162/othsueh/MSP-Podcast/Features/roberta-large-UTT/MSP-PODCAST_0794_0299.npy\n",
      "Error loading file MSP-PODCAST_5568_0686: Text feature file not found: /datas/store162/othsueh/MSP-Podcast/Features/roberta-large-UTT/MSP-PODCAST_5568_0686.npy\n",
      "Error loading file MSP-PODCAST_5685_0298: Text feature file not found: /datas/store162/othsueh/MSP-Podcast/Features/roberta-large-UTT/MSP-PODCAST_5685_0298.npy\n",
      "Error loading file MSP-PODCAST_5724_1209: Text feature file not found: /datas/store162/othsueh/MSP-Podcast/Features/roberta-large-UTT/MSP-PODCAST_5724_1209.npy\n",
      "Error loading file MSP-PODCAST_5730_1301: Text feature file not found: /datas/store162/othsueh/MSP-Podcast/Features/roberta-large-UTT/MSP-PODCAST_5730_1301.npy\n",
      "Error loading file MSP-PODCAST_5526_0396: Text feature file not found: /datas/store162/othsueh/MSP-Podcast/Features/roberta-large-UTT/MSP-PODCAST_5526_0396.npy\n",
      "Error loading file MSP-PODCAST_5748_0066: Text feature file not found: /datas/store162/othsueh/MSP-Podcast/Features/roberta-large-UTT/MSP-PODCAST_5748_0066.npy\n",
      "Error loading file MSP-PODCAST_0794_0299: Text feature file not found: /datas/store162/othsueh/MSP-Podcast/Features/roberta-large-UTT/MSP-PODCAST_0794_0299.npy\n",
      "Error loading file MSP-PODCAST_5744_0892: Text feature file not found: /datas/store162/othsueh/MSP-Podcast/Features/roberta-large-UTT/MSP-PODCAST_5744_0892.npy\n",
      "Error loading file MSP-PODCAST_5526_0396: Text feature file not found: /datas/store162/othsueh/MSP-Podcast/Features/roberta-large-UTT/MSP-PODCAST_5526_0396.npy\n",
      "Error loading file MSP-PODCAST_5748_0066: Text feature file not found: /datas/store162/othsueh/MSP-Podcast/Features/roberta-large-UTT/MSP-PODCAST_5748_0066.npy\n",
      "Error loading file MSP-PODCAST_5526_0396: Text feature file not found: /datas/store162/othsueh/MSP-Podcast/Features/roberta-large-UTT/MSP-PODCAST_5526_0396.npy\n",
      "Error loading file MSP-PODCAST_5492_2836: Text feature file not found: /datas/store162/othsueh/MSP-Podcast/Features/roberta-large-UTT/MSP-PODCAST_5492_2836.npy\n",
      "Error loading file MSP-PODCAST_5526_0396: Text feature file not found: /datas/store162/othsueh/MSP-Podcast/Features/roberta-large-UTT/MSP-PODCAST_5526_0396.npy\n",
      "Error loading file MSP-PODCAST_5700_0234: Text feature file not found: /datas/store162/othsueh/MSP-Podcast/Features/roberta-large-UTT/MSP-PODCAST_5700_0234.npy\n"
     ]
    },
    {
     "data": {
      "image/png": "[encoded data removed]",
      "text/plain": [
       "<Figure size 600x400 with 1 Axes>"
      ]
     },
     "metadata": {},
     "output_type": "display_data"
    }
   ],
   "source": [
    "# Check distribution of emotion categories\n",
    "total_categories = []\n",
    "for batch_idx, (data, label) in enumerate(train_loader):\n",
    "    category = label[\"category\"]\n",
    "    total_categories.extend(torch.argmax(category, dim=1).tolist())\n",
    "category_list = indexEmotion(total_categories)\n",
    "\n",
    "# Create distribution plot\n",
    "plt.figure(figsize=(6, 4))\n",
    "category_counts = pd.Series(category_list).value_counts()\n",
    "sns.barplot(x=category_counts.index, y=category_counts.values)\n",
    "plt.title('Distribution of Emotion Categories')\n",
    "plt.xlabel('Emotion')\n",
    "plt.ylabel('Count')\n",
    "plt.xticks(rotation=45)\n",
    "plt.tight_layout()\n",
    "plt.show()"
   ]
  },
  {
   "cell_type": "code",
   "execution_count": 6,
   "metadata": {},
   "outputs": [
    {
     "data": {
      "text/plain": [
       "Neutral     29144\n",
       "Happy       16652\n",
       "Angry        6716\n",
       "Sad          6400\n",
       "Surprise     2992\n",
       "Contempt     2519\n",
       "Disgust      1419\n",
       "Fear         1134\n",
       "Name: count, dtype: int64"
      ]
     },
     "execution_count": 6,
     "metadata": {},
     "output_type": "execute_result"
    }
   ],
   "source": [
    "category_counts"
   ]
  },
  {
   "cell_type": "code",
   "execution_count": 41,
   "metadata": {},
   "outputs": [
    {
     "name": "stdout",
     "output_type": "stream",
     "text": [
      "\n",
      "Class weights for CrossEntropyLoss:\n",
      "Angry: 1.247\n",
      "Sad: 1.308\n",
      "Happy: 0.503\n",
      "Surprise: 2.798\n",
      "Fear: 7.383\n",
      "Disgust: 5.900\n",
      "Contempt: 3.324\n",
      "Neutral: 0.287\n"
     ]
    }
   ],
   "source": [
    "# Calculate class weights inversely proportional to class frequencies\n",
    "total_samples = len(category_list)\n",
    "class_weights = []\n",
    "emotions = [\"Angry\", \"Sad\", \"Happy\", \"Surprise\", \"Fear\", \"Disgust\", \"Contempt\", \"Neutral\"]\n",
    "for emotion in emotions:\n",
    "    count = category_counts.get(emotion, 0)\n",
    "    if count == 0:\n",
    "        weight = 1.0  # Handle case where class has no samples\n",
    "    else:\n",
    "        weight = total_samples / (len(emotions) * count)\n",
    "    class_weights.append(weight)\n",
    "\n",
    "# Convert to tensor for CrossEntropyLoss\n",
    "class_weights = torch.FloatTensor(class_weights).cuda()\n",
    "print(\"\\nClass weights for CrossEntropyLoss:\")\n",
    "for emotion, weight in zip(emotions, class_weights):\n",
    "    print(f\"{emotion}: {weight:.3f}\")"
   ]
  },
  {
   "cell_type": "code",
   "execution_count": 8,
   "metadata": {},
   "outputs": [],
   "source": [
    "m = nn.AdaptiveAvgPool1d(5)\n",
    "input = torch.randint(1, 64, (8,))\n",
    "input = input.float()"
   ]
  },
  {
   "cell_type": "code",
   "execution_count": 18,
   "metadata": {},
   "outputs": [
    {
     "data": {
      "text/plain": [
       "tensor([21., 58., 39., 51., 33., 56., 13., 28.])"
      ]
     },
     "execution_count": 18,
     "metadata": {},
     "output_type": "execute_result"
    }
   ],
   "source": [
    "input"
   ]
  },
  {
   "cell_type": "code",
   "execution_count": 21,
   "metadata": {},
   "outputs": [
    {
     "data": {
      "text/plain": [
       "[tensor(42.2500), tensor(45.2500), tensor(44.7500), tensor(38.2500)]"
      ]
     },
     "execution_count": 21,
     "metadata": {},
     "output_type": "execute_result"
    }
   ],
   "source": [
    "test = []\n",
    "for i in range(0,4):\n",
    "    test.append(input[i:i+4].mean())\n",
    "test\n"
   ]
  },
  {
   "cell_type": "code",
   "execution_count": 19,
   "metadata": {},
   "outputs": [
    {
     "data": {
      "text/plain": [
       "tensor([[39.5000, 49.3333, 42.0000, 34.0000, 20.5000]])"
      ]
     },
     "execution_count": 19,
     "metadata": {},
     "output_type": "execute_result"
    }
   ],
   "source": [
    "output = m(input.unsqueeze(0))\n",
    "output"
   ]
  },
  {
   "cell_type": "code",
   "execution_count": 20,
   "metadata": {},
   "outputs": [
    {
     "data": {
      "text/plain": [
       "tensor([[42.2500, 45.2500, 44.7500, 38.2500, 32.5000]])"
      ]
     },
     "execution_count": 20,
     "metadata": {},
     "output_type": "execute_result"
    }
   ],
   "source": [
    "m2 = nn.AvgPool1d(4, stride=1)\n",
    "output2 = m2(input.unsqueeze(0))\n",
    "output2"
   ]
  },
  {
   "cell_type": "code",
   "execution_count": 24,
   "metadata": {},
   "outputs": [
    {
     "data": {
      "text/plain": [
       "torch.Size([32, 1, 512])"
      ]
     },
     "execution_count": 24,
     "metadata": {},
     "output_type": "execute_result"
    }
   ],
   "source": [
    "x = torch.rand(32,512)\n",
    "x = x.unsqueeze(1)\n",
    "x.shape"
   ]
  },
  {
   "cell_type": "code",
   "execution_count": 16,
   "metadata": {},
   "outputs": [
    {
     "data": {
      "text/plain": [
       "2"
      ]
     },
     "execution_count": 16,
     "metadata": {},
     "output_type": "execute_result"
    }
   ],
   "source": [
    "8//3"
   ]
  }
 ],
 "metadata": {
  "kernelspec": {
   "display_name": "msp_env",
   "language": "python",
   "name": "python3"
  },
  "language_info": {
   "codemirror_mode": {
    "name": "ipython",
    "version": 3
   },
   "file_extension": ".py",
   "mimetype": "text/x-python",
   "name": "python",
   "nbconvert_exporter": "python",
   "pygments_lexer": "ipython3",
   "version": "3.9.12"
  }
 },
 "nbformat": 4,
 "nbformat_minor": 2
}
